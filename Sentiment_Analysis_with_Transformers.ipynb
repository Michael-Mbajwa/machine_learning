{
 "cells": [
  {
   "cell_type": "markdown",
   "metadata": {},
   "source": [
    "## Sentiment Analysis with Tansformers"
   ]
  },
  {
   "cell_type": "markdown",
   "metadata": {},
   "source": [
    "In this simple project, I will make use of BERT particularly a [bert-base-multilingual-uncased](https://huggingface.co/nlptown/bert-base-multilingual-uncased-sentiment) model from [Hugging Face](https://huggingface.co/) that is finetuned for sentiment analysis on product reviews in six languages."
   ]
  },
  {
   "cell_type": "markdown",
   "metadata": {},
   "source": [
    "# Import Dependencies"
   ]
  },
  {
   "cell_type": "code",
   "execution_count": 1,
   "metadata": {},
   "outputs": [],
   "source": [
    "from transformers import AutoTokenizer, AutoModelForSequenceClassification\n",
    "import torch\n",
    "import requests\n",
    "from bs4 import BeautifulSoup\n",
    "import re\n",
    "import numpy as np\n",
    "import pandas as pd"
   ]
  },
  {
   "cell_type": "markdown",
   "metadata": {},
   "source": [
    "# Instantiate Model (May take some time)"
   ]
  },
  {
   "cell_type": "code",
   "execution_count": 2,
   "metadata": {},
   "outputs": [
    {
     "name": "stderr",
     "output_type": "stream",
     "text": [
      "Downloading: 100%|██████████| 39.0/39.0 [00:00<00:00, 14.9kB/s]\n",
      "Downloading: 100%|██████████| 953/953 [00:00<00:00, 529kB/s]\n",
      "Downloading: 100%|██████████| 851k/851k [00:01<00:00, 728kB/s]  \n",
      "Downloading: 100%|██████████| 112/112 [00:00<00:00, 65.3kB/s]\n",
      "Downloading: 100%|██████████| 638M/638M [04:20<00:00, 2.57MB/s] \n"
     ]
    }
   ],
   "source": [
    "tokenizer = AutoTokenizer.from_pretrained('nlptown/bert-base-multilingual-uncased-sentiment')\n",
    "\n",
    "model = AutoModelForSequenceClassification.from_pretrained('nlptown/bert-base-multilingual-uncased-sentiment')"
   ]
  },
  {
   "cell_type": "markdown",
   "metadata": {},
   "source": [
    "# Test"
   ]
  },
  {
   "cell_type": "code",
   "execution_count": 3,
   "metadata": {},
   "outputs": [
    {
     "data": {
      "text/plain": [
       "tensor([[-3.0342, -2.7840, -0.1796,  2.4267,  2.7624]],\n",
       "       grad_fn=<AddmmBackward0>)"
      ]
     },
     "execution_count": 3,
     "metadata": {},
     "output_type": "execute_result"
    }
   ],
   "source": [
    "tokens = tokenizer.encode('The deep learning course is very insightful and fun.', return_tensors='pt')\n",
    "result = model(tokens)\n",
    "result.logits"
   ]
  },
  {
   "cell_type": "code",
   "execution_count": 4,
   "metadata": {},
   "outputs": [
    {
     "data": {
      "text/plain": [
       "5"
      ]
     },
     "execution_count": 4,
     "metadata": {},
     "output_type": "execute_result"
    }
   ],
   "source": [
    "# Let's see what the sentiment score is\n",
    "int(torch.argmax(result.logits))+1"
   ]
  },
  {
   "cell_type": "markdown",
   "metadata": {},
   "source": [
    "# Collect Reviews\n",
    "\n",
    "I will Collect yelp reviews and use the BERT model to analyse the sentiment of the reiews."
   ]
  },
  {
   "cell_type": "code",
   "execution_count": 3,
   "metadata": {},
   "outputs": [],
   "source": [
    "def extract_reviews_scores(links):\n",
    "    df = None\n",
    "    for link in links:\n",
    "        try: # If the link is valid\n",
    "            # Extracts the reviews\n",
    "            r = requests.get(link)\n",
    "            soup = BeautifulSoup(r.text, 'html.parser')\n",
    "            regex = re.compile('.*comment.*')\n",
    "            results = soup.find_all('p', {'class':regex})\n",
    "            reviews = [result.text for result in results]\n",
    "\n",
    "            # Extracts the score given by the reviewer\n",
    "            result_len = len(results)\n",
    "            regex_score = re.compile('i-stars__09f24__M1AR7')\n",
    "            result_score = soup.find_all('div', {'class':regex_score})\n",
    "            \n",
    "            # On each webpage, the first score is the general review score of the restaurant. We skip it.\n",
    "            # The next result_len scores are the scores we are interested in. The other scores beneath are for other restaurants which we are not interested in.\n",
    "            # You can visit the website for more details.\n",
    "            scores = result_score[1:result_len+1] \n",
    "            review_scores = [int(score['aria-label'][0]) for score in scores]\n",
    "\n",
    "            if df is None:\n",
    "                df = pd.DataFrame({'Review': np.array(reviews), 'Real_Score': np.array(review_scores)})\n",
    "            else:\n",
    "                df1 = pd.DataFrame({'Review': np.array(reviews), 'Real_Score': np.array(review_scores)})\n",
    "                df = pd.concat([df, df1], ignore_index=True)\n",
    "        except:  # Catches any error.\n",
    "            # Do nothing\n",
    "            pass\n",
    "    \n",
    "    return df"
   ]
  },
  {
   "cell_type": "code",
   "execution_count": 4,
   "metadata": {},
   "outputs": [
    {
     "data": {
      "text/plain": [
       "223"
      ]
     },
     "execution_count": 4,
     "metadata": {},
     "output_type": "execute_result"
    }
   ],
   "source": [
    "# Links I will be scraping\n",
    "# Note: you can provide yours from yelp as well. This is because the data cleaning code is designed specifically for the yelp website.\n",
    "\n",
    "links = ['https://www.yelp.com/biz/kingdom-of-dumplings-san-francisco']\n",
    "sample = 'https://www.yelp.com/biz/kingdom-of-dumplings-san-francisco?start='\n",
    "start=10\n",
    "for i in range(2, 224):\n",
    "    link = sample + str(start)\n",
    "    links.append(link)\n",
    "    start += 10\n",
    "\n",
    "len(links)"
   ]
  },
  {
   "cell_type": "code",
   "execution_count": 51,
   "metadata": {},
   "outputs": [],
   "source": [
    "# Function for calculating sentiments provided in dataframe form.\n",
    "\n",
    "def sentiment_score(review):\n",
    "    tokens = tokenizer.encode(review, return_tensors='pt')\n",
    "    result = model(tokens)\n",
    "    return int(torch.argmax(result.logits))+1"
   ]
  },
  {
   "cell_type": "code",
   "execution_count": 52,
   "metadata": {},
   "outputs": [],
   "source": [
    "# Extract reviews and scores\n",
    "df = extract_reviews_scores(links)"
   ]
  },
  {
   "cell_type": "code",
   "execution_count": 54,
   "metadata": {},
   "outputs": [],
   "source": [
    "df['sentiment'] = df['Review'].apply(lambda x: sentiment_score(x[:800])) # model is limited to 800 tokens"
   ]
  },
  {
   "cell_type": "code",
   "execution_count": 55,
   "metadata": {},
   "outputs": [
    {
     "data": {
      "text/html": [
       "<div>\n",
       "<style scoped>\n",
       "    .dataframe tbody tr th:only-of-type {\n",
       "        vertical-align: middle;\n",
       "    }\n",
       "\n",
       "    .dataframe tbody tr th {\n",
       "        vertical-align: top;\n",
       "    }\n",
       "\n",
       "    .dataframe thead th {\n",
       "        text-align: right;\n",
       "    }\n",
       "</style>\n",
       "<table border=\"1\" class=\"dataframe\">\n",
       "  <thead>\n",
       "    <tr style=\"text-align: right;\">\n",
       "      <th></th>\n",
       "      <th>Review</th>\n",
       "      <th>Real_Score</th>\n",
       "      <th>sentiment</th>\n",
       "    </tr>\n",
       "  </thead>\n",
       "  <tbody>\n",
       "    <tr>\n",
       "      <th>0</th>\n",
       "      <td>This place is so good! We live in the sunset a...</td>\n",
       "      <td>5.0</td>\n",
       "      <td>5</td>\n",
       "    </tr>\n",
       "    <tr>\n",
       "      <th>1</th>\n",
       "      <td>I love this Chinese place, absolute must visit...</td>\n",
       "      <td>5.0</td>\n",
       "      <td>5</td>\n",
       "    </tr>\n",
       "    <tr>\n",
       "      <th>2</th>\n",
       "      <td>Came here after a long bike ride across SF wit...</td>\n",
       "      <td>5.0</td>\n",
       "      <td>4</td>\n",
       "    </tr>\n",
       "    <tr>\n",
       "      <th>3</th>\n",
       "      <td>I was craving Chinese food on a Thursday for d...</td>\n",
       "      <td>5.0</td>\n",
       "      <td>5</td>\n",
       "    </tr>\n",
       "    <tr>\n",
       "      <th>4</th>\n",
       "      <td>Walking by this restaurant, I was a bit shocke...</td>\n",
       "      <td>3.0</td>\n",
       "      <td>3</td>\n",
       "    </tr>\n",
       "    <tr>\n",
       "      <th>...</th>\n",
       "      <td>...</td>\n",
       "      <td>...</td>\n",
       "      <td>...</td>\n",
       "    </tr>\n",
       "    <tr>\n",
       "      <th>1118</th>\n",
       "      <td>We were planning to go to shanghai dumpling in...</td>\n",
       "      <td>4.0</td>\n",
       "      <td>5</td>\n",
       "    </tr>\n",
       "    <tr>\n",
       "      <th>1119</th>\n",
       "      <td>For dumplings in SF, this is my favorite place...</td>\n",
       "      <td>4.0</td>\n",
       "      <td>4</td>\n",
       "    </tr>\n",
       "    <tr>\n",
       "      <th>1120</th>\n",
       "      <td>Dirty utensils - with dried food sticking on t...</td>\n",
       "      <td>2.0</td>\n",
       "      <td>2</td>\n",
       "    </tr>\n",
       "    <tr>\n",
       "      <th>1121</th>\n",
       "      <td>I came here for lunch at my son's recommendati...</td>\n",
       "      <td>5.0</td>\n",
       "      <td>5</td>\n",
       "    </tr>\n",
       "    <tr>\n",
       "      <th>1122</th>\n",
       "      <td>I would have thought that since the place is c...</td>\n",
       "      <td>2.0</td>\n",
       "      <td>3</td>\n",
       "    </tr>\n",
       "  </tbody>\n",
       "</table>\n",
       "<p>1123 rows × 3 columns</p>\n",
       "</div>"
      ],
      "text/plain": [
       "                                                 Review  Real_Score  sentiment\n",
       "0     This place is so good! We live in the sunset a...         5.0          5\n",
       "1     I love this Chinese place, absolute must visit...         5.0          5\n",
       "2     Came here after a long bike ride across SF wit...         5.0          4\n",
       "3     I was craving Chinese food on a Thursday for d...         5.0          5\n",
       "4     Walking by this restaurant, I was a bit shocke...         3.0          3\n",
       "...                                                 ...         ...        ...\n",
       "1118  We were planning to go to shanghai dumpling in...         4.0          5\n",
       "1119  For dumplings in SF, this is my favorite place...         4.0          4\n",
       "1120  Dirty utensils - with dried food sticking on t...         2.0          2\n",
       "1121  I came here for lunch at my son's recommendati...         5.0          5\n",
       "1122  I would have thought that since the place is c...         2.0          3\n",
       "\n",
       "[1123 rows x 3 columns]"
      ]
     },
     "execution_count": 55,
     "metadata": {},
     "output_type": "execute_result"
    }
   ],
   "source": [
    "# visualize the result\n",
    "df"
   ]
  },
  {
   "cell_type": "code",
   "execution_count": 57,
   "metadata": {},
   "outputs": [
    {
     "name": "stdout",
     "output_type": "stream",
     "text": [
      "The accuracy is 58.14781834372217%.\n"
     ]
    }
   ],
   "source": [
    "# calculate accuracy\n",
    "\"\"\"\n",
    "Accuracy =  Number of correct predictions/Total Number of predictions\n",
    "\"\"\"\n",
    "correct_predictions = len(df[df.Real_Score == df.sentiment])\n",
    "total_predictions = len(df)\n",
    "\n",
    "Acccuracy = (correct_predictions/total_predictions) * 100\n",
    "\n",
    "print(\"The accuracy is \" + str(Acccuracy) + '%.')"
   ]
  },
  {
   "cell_type": "code",
   "execution_count": 59,
   "metadata": {},
   "outputs": [
    {
     "name": "stdout",
     "output_type": "stream",
     "text": [
      "The RMSE is 0.8343722172751559\n"
     ]
    }
   ],
   "source": [
    "# We can see the accuracy score is not so great\n",
    "# We could try measuring the accuracy of the algorithm with root mean square error instead.\n",
    "rmse = np.square(df.Real_Score - df.sentiment).mean()\n",
    "print(\"The RMSE is\", rmse)\n",
    "\n",
    "# The performance is much better when looking at the accuracy in terms of RMSE."
   ]
  }
 ],
 "metadata": {
  "kernelspec": {
   "display_name": "Python 3 (ipykernel)",
   "language": "python",
   "name": "python3"
  },
  "language_info": {
   "codemirror_mode": {
    "name": "ipython",
    "version": 3
   },
   "file_extension": ".py",
   "mimetype": "text/x-python",
   "name": "python",
   "nbconvert_exporter": "python",
   "pygments_lexer": "ipython3",
   "version": "3.9.10"
  }
 },
 "nbformat": 4,
 "nbformat_minor": 2
}
